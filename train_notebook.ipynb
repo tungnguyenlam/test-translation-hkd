{
 "cells": [
  {
   "cell_type": "code",
   "execution_count": null,
   "id": "e9ba9809",
   "metadata": {},
   "outputs": [],
   "source": [
    "import warnings\n",
    "import sys\n",
    "from pathlib import Path\n",
    "\n",
    "try:\n",
    "    # Add the current directory to the Python path\n",
    "    project_root = str(Path('.').resolve())\n",
    "    if project_root not in sys.path:\n",
    "        sys.path.append(project_root)\n",
    "        print(f\"Added '{project_root}' to system path.\")\n",
    "    \n",
    "    # Now, import your custom modules\n",
    "    import config\n",
    "    import train\n",
    "\n",
    "except ModuleNotFoundError:\n",
    "    print(\"ERROR: Could not import project modules.\")\n",
    "    print(\"Please make sure this notebook is saved in the root directory of your project,\")\n",
    "    print(\"alongside 'train.py', 'config.py', etc.\")\n",
    "\n",
    "# --- Run the Training Process ---\n",
    "def run_training():\n",
    "    \"\"\"\n",
    "    Loads configuration and starts the model training process.\n",
    "    \"\"\"\n",
    "    # Suppress warnings for a cleaner output\n",
    "    warnings.filterwarnings('ignore')\n",
    "\n",
    "    print(\"Loading configuration...\")\n",
    "    # Get the default configuration from your config.py file\n",
    "    cfg = config.get_config()\n",
    "    print(\"Configuration loaded successfully:\")\n",
    "    for key, value in cfg.items():\n",
    "        print(f\"  - {key}: {value}\")\n",
    "    \n",
    "    print(\"\\n\" + \"=\"*50)\n",
    "    print(\"      STARTING MODEL TRAINING\")\n",
    "    print(\"=\"*50 + \"\\n\")\n",
    "    \n",
    "    # Call the main training function from your train.py file\n",
    "    train.train_model(cfg)\n",
    "    \n",
    "    print(\"\\n\" + \"=\"*50)\n",
    "    print(\"      TRAINING FINISHED\")\n",
    "    print(\"=\"*50 + \"\\n\")\n",
    "\n",
    "# Execute the training\n",
    "if 'train' in sys.modules:\n",
    "    run_training()"
   ]
  }
 ],
 "metadata": {
  "kernelspec": {
   "display_name": "myenv",
   "language": "python",
   "name": "python3"
  },
  "language_info": {
   "codemirror_mode": {
    "name": "ipython",
    "version": 3
   },
   "file_extension": ".py",
   "mimetype": "text/x-python",
   "name": "python",
   "nbconvert_exporter": "python",
   "pygments_lexer": "ipython3",
   "version": "3.12.11"
  }
 },
 "nbformat": 4,
 "nbformat_minor": 5
}
